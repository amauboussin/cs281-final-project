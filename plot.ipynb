{
 "cells": [
  {
   "cell_type": "code",
   "execution_count": 6,
   "metadata": {
    "collapsed": false
   },
   "outputs": [],
   "source": [
    "from load import all_subreddits_data, tv_subreddits_data\n",
    "import numpy as np\n",
    "from sklearn.cross_validation import cross_val_score\n",
    "\n",
    "from sklearn.feature_extraction.text import CountVectorizer\n",
    "from sklearn.tree import DecisionTreeClassifier\n",
    "\n"
   ]
  },
  {
   "cell_type": "code",
   "execution_count": 11,
   "metadata": {
    "collapsed": true
   },
   "outputs": [],
   "source": [
    "import numpy as np\n",
    "import marisa_trie\n",
    "from sklearn.feature_extraction.text import CountVectorizer\n",
    "from sklearn.externals import six\n",
    "\n",
    "class MarisaCountVectorizer(CountVectorizer):\n",
    "\n",
    "    # ``CountVectorizer.fit`` method calls ``fit_transform`` so\n",
    "    # ``fit`` is not provided\n",
    "    def fit_transform(self, raw_documents, y=None):\n",
    "        X = super(MarisaCountVectorizer, self).fit_transform(raw_documents)\n",
    "        X = self._freeze_vocabulary(X)\n",
    "        return X\n",
    "\n",
    "    def _freeze_vocabulary(self, X=None):\n",
    "        if not self.fixed_vocabulary_:\n",
    "            frozen = marisa_trie.Trie(six.iterkeys(self.vocabulary_))\n",
    "            if X is not None:\n",
    "                X = self._reorder_features(X, self.vocabulary_, frozen)\n",
    "            self.vocabulary_ = frozen\n",
    "            self.fixed_vocabulary_ = True\n",
    "            del self.stop_words_\n",
    "        return X\n",
    "\n",
    "    def _reorder_features(self, X, old_vocabulary, new_vocabulary):\n",
    "        map_index = np.empty(len(old_vocabulary), dtype=np.int32)\n",
    "        for term, new_val in six.iteritems(new_vocabulary):\n",
    "            map_index[new_val] = old_vocabulary[term]\n",
    "        return X[:, map_index]"
   ]
  },
  {
   "cell_type": "code",
   "execution_count": 12,
   "metadata": {
    "collapsed": true
   },
   "outputs": [],
   "source": [
    "all_data = all_subreddits_data()\n"
   ]
  },
  {
   "cell_type": "code",
   "execution_count": 13,
   "metadata": {
    "collapsed": false
   },
   "outputs": [],
   "source": [
    "\n",
    "document_label = []\n",
    "for label, docs in all_data.items():\n",
    "    for d in docs:\n",
    "        document_label.append((label, d))\n",
    "label_index = { label: i for i, label in enumerate(all_data.keys()) }\n",
    "index_label  = { i: label for i, label in enumerate(all_data.keys()) }"
   ]
  },
  {
   "cell_type": "code",
   "execution_count": 14,
   "metadata": {
    "collapsed": false
   },
   "outputs": [],
   "source": [
    "vectorizer = MarisaCountVectorizer(min_df=2, stop_words='english')\n",
    "X = vectorizer.fit_transform(map(lambda x: x[1], document_label))\n",
    "Y = np.array(map(lambda x: label_index[x[0]], document_label))\n"
   ]
  },
  {
   "cell_type": "code",
   "execution_count": 15,
   "metadata": {
    "collapsed": false
   },
   "outputs": [],
   "source": [
    "classifier = DecisionTreeClassifier()\n",
    "scores = (cross_val_score(classifier, X.toarray(), Y, cv=10))"
   ]
  },
  {
   "cell_type": "code",
   "execution_count": 16,
   "metadata": {
    "collapsed": false
   },
   "outputs": [
    {
     "data": {
      "text/plain": [
       "0.6738541466574024"
      ]
     },
     "execution_count": 16,
     "metadata": {},
     "output_type": "execute_result"
    }
   ],
   "source": [
    "#anime vs. buildapc\n",
    "hlda = 0.9961538\n",
    "lda = 0.87692\n",
    "dt = 0.97452149568428637\n",
    "np.mean(scores)"
   ]
  },
  {
   "cell_type": "code",
   "execution_count": null,
   "metadata": {
    "collapsed": true
   },
   "outputs": [],
   "source": [
    "#10 subreddits\n",
    "hlda = 1386./1706"
   ]
  }
 ],
 "metadata": {
  "kernelspec": {
   "display_name": "Python 2",
   "language": "python",
   "name": "python2"
  },
  "language_info": {
   "codemirror_mode": {
    "name": "ipython",
    "version": 2
   },
   "file_extension": ".py",
   "mimetype": "text/x-python",
   "name": "python",
   "nbconvert_exporter": "python",
   "pygments_lexer": "ipython2",
   "version": "2.7.10"
  }
 },
 "nbformat": 4,
 "nbformat_minor": 0
}
