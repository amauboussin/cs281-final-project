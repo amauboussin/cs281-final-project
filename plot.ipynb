{
 "cells": [
  {
   "cell_type": "code",
   "execution_count": 19,
   "metadata": {
    "collapsed": true
   },
   "outputs": [],
   "source": [
    "from load import all_subreddits_data, tv_subreddits_data\n",
    "import numpy as np\n",
    "from sklearn.cross_validation import cross_val_score\n",
    "\n",
    "from sklearn.feature_extraction.text import CountVectorizer\n",
    "from sklearn.tree import DecisionTreeClassifier\n",
    "\n"
   ]
  },
  {
   "cell_type": "code",
   "execution_count": 22,
   "metadata": {
    "collapsed": true
   },
   "outputs": [],
   "source": [
    "all_data = all_subreddits_data()\n"
   ]
  },
  {
   "cell_type": "code",
   "execution_count": 23,
   "metadata": {
    "collapsed": false
   },
   "outputs": [],
   "source": [
    "\n",
    "document_label = []\n",
    "for label, docs in all_data.items():\n",
    "    for d in docs:\n",
    "        document_label.append((label, d))\n",
    "label_index = { label: i for i, label in enumerate(all_data.keys()) }\n",
    "index_label  = { i: label for i, label in enumerate(all_data.keys()) }"
   ]
  },
  {
   "cell_type": "code",
   "execution_count": null,
   "metadata": {
    "collapsed": false
   },
   "outputs": [],
   "source": [
    "vectorizer = CountVectorizer(min_df=2, stop_words='english')\n",
    "X = vectorizer.fit_transform(map(lambda x: x[1], document_label))\n",
    "Y = np.array(map(lambda x: label_index[x[0]], document_label))\n"
   ]
  },
  {
   "cell_type": "code",
   "execution_count": null,
   "metadata": {
    "collapsed": false
   },
   "outputs": [],
   "source": [
    "classifier = DecisionTreeClassifier()\n",
    "np.mean(cross_val_score(classifier, X.toarray(), Y, cv=10))"
   ]
  },
  {
   "cell_type": "code",
   "execution_count": null,
   "metadata": {
    "collapsed": false
   },
   "outputs": [],
   "source": [
    "#anime vs. buildapc\n",
    "hlda = 0.9961538\n",
    "lda = 0.87692\n",
    "dt = 0.97452149568428637\n"
   ]
  },
  {
   "cell_type": "code",
   "execution_count": null,
   "metadata": {
    "collapsed": true
   },
   "outputs": [],
   "source": [
    "#10 subreddits\n",
    "hlda = 1386./1706"
   ]
  }
 ],
 "metadata": {
  "kernelspec": {
   "display_name": "Python 2",
   "language": "python",
   "name": "python2"
  },
  "language_info": {
   "codemirror_mode": {
    "name": "ipython",
    "version": 2
   },
   "file_extension": ".py",
   "mimetype": "text/x-python",
   "name": "python",
   "nbconvert_exporter": "python",
   "pygments_lexer": "ipython2",
   "version": "2.7.10"
  }
 },
 "nbformat": 4,
 "nbformat_minor": 0
}
