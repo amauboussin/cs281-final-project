{
 "cells": [
  {
   "cell_type": "code",
   "execution_count": 14,
   "metadata": {
    "collapsed": false
   },
   "outputs": [],
   "source": [
    "from funcy import pluck, walk_values\n",
    "from load import group_by, comments_grouped_by"
   ]
  },
  {
   "cell_type": "code",
   "execution_count": 3,
   "metadata": {
    "collapsed": true
   },
   "outputs": [],
   "source": [
    "comments_by_subreddit = comments_grouped_by('subreddit')"
   ]
  },
  {
   "cell_type": "code",
   "execution_count": 30,
   "metadata": {
    "collapsed": false
   },
   "outputs": [],
   "source": [
    "pool = lambda comments: ' '.join(pluck('body', comments))\n",
    "\n",
    "subreddit_comments = {s: walk_values(pool, group_by(comments, 'author')) \n",
    "                          for s, comments in comments_by_subreddit.iteritems()\n",
    "                     }"
   ]
  },
  {
   "cell_type": "code",
   "execution_count": 31,
   "metadata": {
    "collapsed": false
   },
   "outputs": [
    {
     "data": {
      "text/plain": [
       "u'So? That doesn\\'t make it a good episode. They made some random nonsense (oh there\\'s a veiled message *somewhere* though, right?) and knew people would call it random nonsense. A self fulfilling prophecy, and not a good one.\\n\\nI think AT just doesn\\'t give much of a toot. They know they have a large dedicated fan base, so they can afford to roll out these \"artsy fartsy\" episodes. I think it\\'s a chiminea. A kind of outdoor fireplace. Haha, I know right? But that\\'s just the way of the world. We all have knowledge and interests to speak on that would be lost on others. It\\'s part of what makes the earth (and humankind) so special. I can see the attraction of the thing being a diving bell on account of Finns connection to the ocean. Idk why it\\'s hanging from the tree, how long it\\'s been there, or if they\\'ve ever even tried to use it. I do know that if one were to look up pictures of both items, the object in question resembles a chiminea a heck of a lot more than it does a diving bell. There doesn\\'t seem to be a way to close that front opening so you\\'d be flooded if you took it underwater (maybe the door broke off?). Maybe there\\'s no top vent because the front opening is enough to keep the fire going. Chiminea aren\\'t exactly for a roaring fire (more like cozy cuddle time) so if flames are licking through the top, yer using it wrong. Maybe it\\'s a smoker (for food)? Jake *is* a foodie after all.\\n\\nHave mercy, I\\'ve stopped trying to investigate every lil\\' thing AT throws at us and just roll with the punches. If it\\'s important it will be reveled in the series. Things like this are too trivial and ambiguous to try and come to some conclusion on a message board.  \\n\\n\\n^Edit: Furthermore, I find the contrast between the uses of the two apparent possible objects in question, pretty intriguing. One (chiminea), is used to hold a fire on land. The other (diving bell), holds a human inside to be put under water....Need I mention Flame Princess? Her mention of water (tears/crying/emotions) being Finns power? Finns connection to the ocean, yet yearning for FP even though they can hardly be intimate? The brilliant folks who make this show happen don\\'t do anything on accident. Cuber confirmed Finns future incarnation. Forgive my ignorance, but when and how exactly did Finn get the Root Sword? I know there was the original Gold/chiped Sword. Followed, I believe, by the root sword. Then Demon Blood Sword from dads dungeon, which deteriorated. Acquired Grass Sword, it went awry. Now he has Finnsword after a time paradox....\\n\\nI guess I never caught how it came to be.\\n\\n^edit: Sick tat btw Yeah, I\\'d say they were definitely human at one point. It\\'s possible they were affected by whatever fogs and gasses were released by the mushroom war/the Litch, causing them to become zombie-like. Or it could be from, yeknow, being frozen a thousand some-odd years and their brains being cold-sapped of any sanity. Also, \"business men\" are stereotyped as being cold, calculated, all about production (dat mula baby). So the fact that this was a kind of default setting for the business men coming out of stasis, shows that the powers of Capitalism are corrupting and all-consuming. They and their ways were most definitely displayed in a negative light. Rightfully so, in my humble opinion... Thanks friend! Mystery Train shall be the next episode I re-watch! ^^Please, ^^can ^^we ^^all ^^just ^^up-vote ^^this ^^fella ^^and ^^no ^^one ^^else ^^comment? ^^I\\'m ^^sorry ^^I ^^even ^^did. ^^I ^^mean, ^^what ^^the ^^whaaat?!?! Just like those dern business men! &gt;pure essence of *Gunthers deranged interpretation* of Evergreen\\n\\nftfy\\n\\nAlso, if LGM powers are what eventually frees Simon, thus creating the Icething (possibly through the genius of Betty), how does that explain the missing gem and the complete absence of any part of the crown or gold?  Icething seems to be a manifestation of the wish itself. Not a living thing being possessed.\\n\\nI guess LGM being part of what makes Icething just doesn\\'t sit well with me...\\n\\n^edit: further thoughts\\n\\n Wolfhard and Herpich are hands down my favorite storyboarders.  In theory, the absence of government(PB), would cause humans to behave similarly to the candy people, if not worse...should we have a leash and tracker collar?\\n\\nOh, wait.... But is dream magic more powerful than wish magic? Where is Major Major Major Major? But Tree Trunks *is* a puppy sized elephant\\n\\n^^dftba [Imaginaaaation](https://m.youtube.com/watch?v=VbPWe9U4uPU) Comedic righteousness is AT bread and butter. \\n\\nI never see much love for boom boom mt. Have an upvote, friend &gt;Worst - Blood Under the Skin\\n\\nThat whole episode is downright hilarious...fear of embarrassment can be a real motivator.\\n\\n&gt;Worst - Beyond This Earthly Realm\\n\\nThis one was entertaining enough....We learned Ice King can see the spirit plane and gained further insight into his insane/manipulative, yet still desperate for friendship, personality. Finns baby song and IKs victory song were awesome as well.\\n\\n&gt;Worst - Shh!\\n\\nHow can you dislike an ep containing such a sweet [song?](https://m.youtube.com/watch?v=lkEmDItUAUU)\\nAnd that semi-silent F&amp;J vs. BBs fight scene? Classic stuff...\\n Could be...both are experimental, surreal, and thought provoking. Both use metaphor and other tools (like [allusion](http://en.m.wikipedia.org/wiki/Allusion) which is what I pointed out) to convey multiple messages. Both share cyclical themes. AT staff have done similar things afore. FW was written in a way to represent a dream-like state. What was the episode aboot? Dreams... Mind explaining why I\\'m wrong? I presented reasons for the reference to be real. Really not much to stretch... It\\'s a simple reference not a drawn out theory... Fiona, Cake, and Marshall Lee. F&amp;C I find boring and kind of annoying. ML just rubs me the wrong way.\\n\\nPretty much the only parts of the show that I don\\'t particularly like.  But why and how it was said is precisely how the episode and book tie into each other, along with various other shared qualities that extend beyond \"Hoots\". I\\'m not gonna pretend to be an expert on the book, as I haven\\'t read it (most who know of it haven\\'t read it, in fact). But a quick browse through the wiki page would reveal a good deal of similarities in the way they are put together and in the numerous subjects and ideas they attempt to impart on the audience. I thought I caught a literary reference to Finnegans Wake about dreams/the surreal/conscious and unconscious in \"hoots\", [but...](http://www.reddit.com/r/adventuretime/comments/368mgv/tidbit_from_hoots/) Yeah, I made a slightly negative comment about it myself in the heat of the moment fresh after viewing. It is a really nice episode. Lots of good bits. Just very ambiguous which is bound to create a difference of opinions among the fanbase. The way it is spoken is how I believe the creators are referencing the book. The book is written using words and sayings composed of  around 70 languages. The author did this by utilizing a writing tool known as [portmanteau words](http://en.m.wikipedia.org/wiki/Portmanteau), which is where you combine two or more words/sounds and their meanings to form a single new word. In this case the words are \"Finn\" and \"again\" to create \"Finnegan\"(Finnegan being the portmanteau). AT used the portmanteau to create an allusion. The episode is about dreams. Finnegans Wake is believed to be written to recreate the experience of dreams.\\n\\nI feel like madman now... I\\'m sorry you(and no one else) see the connection. I guess it just adds a little more meaning for me anyways... Basically, Adventure Time is to animation as Finnegans Wake is to literature. You\\'re so insightful. Will you marry me? Only its not a theory, just a possible reference.\\n\\nWhy so hostile? &gt;hitler \\n\\nBut, you\\'re the one being oppressive and belligerent.\\n\\nI hope you find peace, bud I\\'d say there\\'s enough similarity to be a legit reference. Nice catch \\nYe\\'know, I sincerely dislike most every Cartoon Network show that is not Adventure Time, (at least Teen Titans Go, Gumball, Steven U, and Uncle Gramps are all very \"meh\" imho) but with all the recent talk of crossovers, uncle gramps crossing into Adventure Time is the only thing I can see working. Where gramps is a kind of anti Magic Man in an episode where F&amp;J keep trying to save the day only to find that UG has already solved the issue in some unorthodox way that they don\\'t necessarily like but can\\'t do anything about, because UG is still doing good. I don\\'t care much for the characters or plot, for su in particular. I actually find Gumball more enjoyable given the type of show it is (more slapstick as opposed to the more plot oriented su. UG is just nasty in a wombat stew kind of way). AT is in a class of its own in terms of plot/character development and subject matter. Nothing about those shows have resonated with me anywhere near the way AT has. Not trying to say they are bad shows... But I, as a 20-something \"adult\", only have so much patience for t.v show watching in general and, from what I\\'ve seen, these other shows just don\\'t seem worth it. I\\'ve seen about 5 episodes, never 2 in a row, and I assume they were all from different points in the series. I don\\'t care for the art style or characters personalities (what I\\'ve seen of them). The story seems interesting enough, but I\\'ve never felt/laughed at any little morsels that I get from pretty much every episode of AT (even the older ones) since the first time I tuned in. Nothing I\\'ve seen from SU makes me want to invest my time and brain to it.\\n That would probably help. Might need wax though... Fun fact: The actual name of the song is \"El Paso\" It\\'s how he reacts under stress. He never had a childhood, did he? Never got told \"no\" as a whiny toddler I reckon. Cocaine is a hell of a drug Didn\\'t it turn into a bunch of change and fall down a drain? Well, for what it\\'s worth, I enjoyed the episode. No real gripes except that it felt like two half eps morphed into one, and the dialogue seemed off. Don\\'t care whatsoever that it might not have further developed any characters/plot lines. Definitely felt like a season 1 or 2 episode. We get *a lot* to think about with the majority of the series. Is a goofy episode every now and then really too much for some(most?) of you? For the love of Grod, lighten up... This comment is a beacon of sunshine in a sea of shite. Folks crave a lgbt relationships and convoluted plot advancement, but can\\'t stand a little goofiness? Gimme a break... &gt;we are spoiled\\n\\nThis 1000+ You\\'re my hero, ep was awesome I love this thread so much. Most level headed OP and comments I\\'ve come across on this sub (in the ~4 months I\\'ve visited).  Where was the bad writing?\\nWhere did characters fall apart?\\n\\nI\\'m no media expert, so please, enlighten me I\\'m declaring myself President of your fan club. \\n\\nYou make my day. Keep being you. \\n\\n:) Now, I want to clarify... I like your charisma, and think your outlook is justifiable, but I don\\'t exactly agree with your choice of words (saying \"pussy\" and whatnot won\\'t help anyone see another\\'s point of view). I understand that clever (often mean-spirited) comments are more widely celebrated, while it seems that thought out opinions or simple feelings are readily scrutinized. The more you say, the more people will find to disagree with. Such is the nature of the internet.\\n\\nTo put it simply, you\\'re real af, and I applaud you for it. Rraaaiiiiddeeeerrrss!\\n\\nsorry, im from Oakland Could it be possible the Lich or comet was responsible for bringing about what made PBgoop in *Simon and Marcy*? All of Finns past lives that we know about (comet, butterfly, Shoko) have had importance. I wouldn\\'t write off the pink doodoo from another dimension so easily. Finn summoned butterflies from the astral plane in the episode *Still*. In *The Mountain* he follows the door showing a butterfly, which leads him to his spirit essence. It\\'s like his spirit animal. Or, human + pink doodoo from another dimension'"
      ]
     },
     "execution_count": 31,
     "metadata": {},
     "output_type": "execute_result"
    }
   ],
   "source": [
    "subreddit_comments['adventuretime']['boob_town']"
   ]
  },
  {
   "cell_type": "code",
   "execution_count": null,
   "metadata": {
    "collapsed": true
   },
   "outputs": [],
   "source": []
  },
  {
   "cell_type": "code",
   "execution_count": null,
   "metadata": {
    "collapsed": true
   },
   "outputs": [],
   "source": []
  }
 ],
 "metadata": {
  "kernelspec": {
   "display_name": "Python 2",
   "language": "python",
   "name": "python2"
  },
  "language_info": {
   "codemirror_mode": {
    "name": "ipython",
    "version": 2
   },
   "file_extension": ".py",
   "mimetype": "text/x-python",
   "name": "python",
   "nbconvert_exporter": "python",
   "pygments_lexer": "ipython2",
   "version": "2.7.10"
  }
 },
 "nbformat": 4,
 "nbformat_minor": 0
}
